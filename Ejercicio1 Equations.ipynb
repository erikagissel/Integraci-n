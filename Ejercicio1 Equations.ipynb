{
 "cells": [
  {
   "cell_type": "markdown",
   "metadata": {},
   "source": [
    "Se desea maximizar el caudal de calor intercambiado del siguiente sistema, para lo cual se dispone de dos variables de decisión (T2C y T2H)\n",
    "\n",
    "![Ejemplo 1](images/Ej1.png)\n"
   ]
  },
  {
   "cell_type": "markdown",
   "metadata": {},
   "source": [
    "#### Requirements\n",
    "\n",
    "conda install --yes -c conda-forge pyomo\n",
    "\n",
    "conda install --yes -c conda-forge glpk"
   ]
  },
  {
   "cell_type": "code",
   "execution_count": 1,
   "metadata": {},
   "outputs": [],
   "source": [
    "from pyomo.environ import *\n",
    "model = ConcreteModel()"
   ]
  },
  {
   "cell_type": "markdown",
   "metadata": {},
   "source": [
    "Variables"
   ]
  },
  {
   "cell_type": "code",
   "execution_count": 2,
   "metadata": {},
   "outputs": [],
   "source": [
    "model.T2C = Var(bounds = (20,200))\n",
    "model.T2H = Var(bounds = (20,150))"
   ]
  },
  {
   "cell_type": "markdown",
   "metadata": {},
   "source": [
    "Objective function"
   ]
  },
  {
   "cell_type": "code",
   "execution_count": 3,
   "metadata": {},
   "outputs": [],
   "source": [
    "model.Q = Objective(expr = 1.8*(150-model.T2H), sense=maximize)"
   ]
  },
  {
   "cell_type": "markdown",
   "metadata": {},
   "source": [
    "Constraints"
   ]
  },
  {
   "cell_type": "code",
   "execution_count": 4,
   "metadata": {},
   "outputs": [],
   "source": [
    "DTm = 0 # Change to 20 or whatever minimum difference temperature value considered\n",
    "\n",
    "model.P1 = Constraint(expr = 150 - model.T2H >= 0)\n",
    "model.P2 = Constraint(expr = model.T2C - 20 >= 0)\n",
    "model.P3 = Constraint(expr = model.T2H - 20 >= DTm)\n",
    "model.P4 = Constraint(expr = 150 - model.T2C >= DTm)\n",
    "model.P5 = Constraint(expr = 1.8*(150-model.T2H)-1*(model.T2C-20)==0)\n"
   ]
  },
  {
   "cell_type": "markdown",
   "metadata": {},
   "source": [
    "Solution"
   ]
  },
  {
   "cell_type": "code",
   "execution_count": 5,
   "metadata": {},
   "outputs": [
    {
     "name": "stdout",
     "output_type": "stream",
     "text": [
      "2 Var Declarations\n",
      "    T2C : Size=1, Index=None\n",
      "        Key  : Lower : Value : Upper : Fixed : Stale : Domain\n",
      "        None :    20 : 150.0 :   200 : False : False :  Reals\n",
      "    T2H : Size=1, Index=None\n",
      "        Key  : Lower : Value            : Upper : Fixed : Stale : Domain\n",
      "        None :    20 : 77.7777777777778 :   150 : False : False :  Reals\n",
      "\n",
      "1 Objective Declarations\n",
      "    Q : Size=1, Index=None, Active=True\n",
      "        Key  : Active : Sense    : Expression\n",
      "        None :   True : maximize : 1.8*(150 - T2H)\n",
      "\n",
      "5 Constraint Declarations\n",
      "    P1 : Size=1, Index=None, Active=True\n",
      "        Key  : Lower : Body      : Upper : Active\n",
      "        None :   0.0 : 150 - T2H :  +Inf :   True\n",
      "    P2 : Size=1, Index=None, Active=True\n",
      "        Key  : Lower : Body     : Upper : Active\n",
      "        None :   0.0 : T2C - 20 :  +Inf :   True\n",
      "    P3 : Size=1, Index=None, Active=True\n",
      "        Key  : Lower : Body     : Upper : Active\n",
      "        None :   0.0 : T2H - 20 :  +Inf :   True\n",
      "    P4 : Size=1, Index=None, Active=True\n",
      "        Key  : Lower : Body      : Upper : Active\n",
      "        None :   0.0 : 150 - T2C :  +Inf :   True\n",
      "    P5 : Size=1, Index=None, Active=True\n",
      "        Key  : Lower : Body                         : Upper : Active\n",
      "        None :   0.0 : 1.8*(150 - T2H) - (T2C - 20) :   0.0 :   True\n",
      "\n",
      "8 Declarations: T2C T2H Q P1 P2 P3 P4 P5\n",
      "# ==========================================================\n",
      "# = Solver Results                                         =\n",
      "# ==========================================================\n",
      "# ----------------------------------------------------------\n",
      "#   Problem Information\n",
      "# ----------------------------------------------------------\n",
      "Problem: \n",
      "- Name: unknown\n",
      "  Lower bound: 130.0\n",
      "  Upper bound: 130.0\n",
      "  Number of objectives: 1\n",
      "  Number of constraints: 6\n",
      "  Number of variables: 3\n",
      "  Number of nonzeros: 7\n",
      "  Sense: maximize\n",
      "# ----------------------------------------------------------\n",
      "#   Solver Information\n",
      "# ----------------------------------------------------------\n",
      "Solver: \n",
      "- Status: ok\n",
      "  Termination condition: optimal\n",
      "  Statistics: \n",
      "    Branch and bound: \n",
      "      Number of bounded subproblems: 0\n",
      "      Number of created subproblems: 0\n",
      "  Error rc: 0\n",
      "  Time: 0.07768678665161133\n",
      "# ----------------------------------------------------------\n",
      "#   Solution Information\n",
      "# ----------------------------------------------------------\n",
      "Solution: \n",
      "- number of solutions: 0\n",
      "  number of solutions displayed: 0\n"
     ]
    }
   ],
   "source": [
    "results = SolverFactory('glpk').solve(model)\n",
    "model.pprint()\n",
    "results.write()"
   ]
  },
  {
   "cell_type": "markdown",
   "metadata": {},
   "source": [
    "Computing utility consumption"
   ]
  },
  {
   "cell_type": "code",
   "execution_count": 6,
   "metadata": {},
   "outputs": [
    {
     "name": "stdout",
     "output_type": "stream",
     "text": [
      "Cold utility = 50.00, Hot utility = 50.00\n"
     ]
    }
   ],
   "source": [
    "Qcold = 1.8*(value(model.T2H) - 50)\n",
    "Qhot = 1*(200 - value(model.T2C))\n",
    "print('Cold utility = {0:2.2f}, Hot utility = {1:2.2f}'.format(Qcold, Qhot))"
   ]
  }
 ],
 "metadata": {
  "kernelspec": {
   "display_name": "Python 3.8.3 ('base')",
   "language": "python",
   "name": "python3"
  },
  "language_info": {
   "codemirror_mode": {
    "name": "ipython",
    "version": 3
   },
   "file_extension": ".py",
   "mimetype": "text/x-python",
   "name": "python",
   "nbconvert_exporter": "python",
   "pygments_lexer": "ipython3",
   "version": "3.8.3"
  },
  "orig_nbformat": 4,
  "vscode": {
   "interpreter": {
    "hash": "e06ff7da33dc9620448857a90ad8b5f428f0d573d205a934d2841c8aee45ea32"
   }
  }
 },
 "nbformat": 4,
 "nbformat_minor": 2
}
