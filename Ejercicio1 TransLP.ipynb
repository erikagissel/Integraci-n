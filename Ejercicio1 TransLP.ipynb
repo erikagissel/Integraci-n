{
 "cells": [
  {
   "cell_type": "markdown",
   "metadata": {},
   "source": [
    "Se desea maximizar el caudal de calor intercambiado del siguiente sistema, para lo cual se dispone de dos variables de decisión (T2C y T2H)\n",
    "![Ejemplo 1](images/Ej1.png)"
   ]
  },
  {
   "cell_type": "markdown",
   "metadata": {},
   "source": [
    "En este caso, resolveremos el ejemplo utilizando el \"Transhipment model\", en el cual se plantean los balances alrededor de cada intervalo de temperaturas\n",
    "\n",
    "![Ejemplo 1](images/Ej1casc.png)\n",
    "\n",
    "**Recordad que las temperaturas están desplazadas** E.g. En el caso de T1H=150, al ser una temperatura de corriente caliente disminuye en una cantidad $\\Delta T_m/2$. Para el caso de T3C=200 pasa a ser 205 C al ser una corriente fría."
   ]
  },
  {
   "cell_type": "code",
   "execution_count": 1,
   "metadata": {},
   "outputs": [],
   "source": [
    "from pyomo.environ import *\n",
    "model = ConcreteModel()"
   ]
  },
  {
   "cell_type": "markdown",
   "metadata": {},
   "source": [
    "Variables"
   ]
  },
  {
   "cell_type": "code",
   "execution_count": 2,
   "metadata": {},
   "outputs": [],
   "source": [
    "Qhot = model.Qhot = Var(within = NonNegativeReals)\n",
    "Qcold = model.Qcold = Var(within = NonNegativeReals)\n",
    "R1 = model.R1 = Var(within = NonNegativeReals)\n",
    "R2 = model.R2 = Var(within = NonNegativeReals)"
   ]
  },
  {
   "cell_type": "markdown",
   "metadata": {},
   "source": [
    "Objective function"
   ]
  },
  {
   "cell_type": "code",
   "execution_count": 3,
   "metadata": {},
   "outputs": [],
   "source": [
    "model.util = Objective(expr = Qhot + Qcold)"
   ]
  },
  {
   "cell_type": "markdown",
   "metadata": {},
   "source": [
    "Constraints"
   ]
  },
  {
   "cell_type": "code",
   "execution_count": 4,
   "metadata": {},
   "outputs": [],
   "source": [
    "model.int1 = Constraint(expr = Qhot - 60 - R1 == 0)\n",
    "model.int2 = Constraint(expr = 180 + R1 - R2 - 100 == 0)\n",
    "model.int3 = Constraint(expr = R2 - 20 - Qcold == 0)\n"
   ]
  },
  {
   "cell_type": "markdown",
   "metadata": {},
   "source": [
    "Solution"
   ]
  },
  {
   "cell_type": "code",
   "execution_count": 5,
   "metadata": {},
   "outputs": [
    {
     "name": "stdout",
     "output_type": "stream",
     "text": [
      "4 Var Declarations\n",
      "    Qcold : Size=1, Index=None\n",
      "        Key  : Lower : Value : Upper : Fixed : Stale : Domain\n",
      "        None :     0 :  60.0 :  None : False : False : NonNegativeReals\n",
      "    Qhot : Size=1, Index=None\n",
      "        Key  : Lower : Value : Upper : Fixed : Stale : Domain\n",
      "        None :     0 :  60.0 :  None : False : False : NonNegativeReals\n",
      "    R1 : Size=1, Index=None\n",
      "        Key  : Lower : Value : Upper : Fixed : Stale : Domain\n",
      "        None :     0 :   0.0 :  None : False : False : NonNegativeReals\n",
      "    R2 : Size=1, Index=None\n",
      "        Key  : Lower : Value : Upper : Fixed : Stale : Domain\n",
      "        None :     0 :  80.0 :  None : False : False : NonNegativeReals\n",
      "\n",
      "1 Objective Declarations\n",
      "    util : Size=1, Index=None, Active=True\n",
      "        Key  : Active : Sense    : Expression\n",
      "        None :   True : minimize : Qhot + Qcold\n",
      "\n",
      "3 Constraint Declarations\n",
      "    int1 : Size=1, Index=None, Active=True\n",
      "        Key  : Lower : Body           : Upper : Active\n",
      "        None :   0.0 : Qhot - 60 - R1 :   0.0 :   True\n",
      "    int2 : Size=1, Index=None, Active=True\n",
      "        Key  : Lower : Body                : Upper : Active\n",
      "        None :   0.0 : 180 + R1 - R2 - 100 :   0.0 :   True\n",
      "    int3 : Size=1, Index=None, Active=True\n",
      "        Key  : Lower : Body            : Upper : Active\n",
      "        None :   0.0 : R2 - 20 - Qcold :   0.0 :   True\n",
      "\n",
      "8 Declarations: Qhot Qcold R1 R2 util int1 int2 int3\n",
      "# ==========================================================\n",
      "# = Solver Results                                         =\n",
      "# ==========================================================\n",
      "# ----------------------------------------------------------\n",
      "#   Problem Information\n",
      "# ----------------------------------------------------------\n",
      "Problem: \n",
      "- Name: unknown\n",
      "  Lower bound: 120.0\n",
      "  Upper bound: 120.0\n",
      "  Number of objectives: 1\n",
      "  Number of constraints: 4\n",
      "  Number of variables: 5\n",
      "  Number of nonzeros: 7\n",
      "  Sense: minimize\n",
      "# ----------------------------------------------------------\n",
      "#   Solver Information\n",
      "# ----------------------------------------------------------\n",
      "Solver: \n",
      "- Status: ok\n",
      "  Termination condition: optimal\n",
      "  Statistics: \n",
      "    Branch and bound: \n",
      "      Number of bounded subproblems: 0\n",
      "      Number of created subproblems: 0\n",
      "  Error rc: 0\n",
      "  Time: 0.057425498962402344\n",
      "# ----------------------------------------------------------\n",
      "#   Solution Information\n",
      "# ----------------------------------------------------------\n",
      "Solution: \n",
      "- number of solutions: 0\n",
      "  number of solutions displayed: 0\n"
     ]
    }
   ],
   "source": [
    "results = SolverFactory('glpk').solve(model)\n",
    "model.pprint()\n",
    "results.write()"
   ]
  },
  {
   "cell_type": "code",
   "execution_count": 6,
   "metadata": {},
   "outputs": [
    {
     "name": "stdout",
     "output_type": "stream",
     "text": [
      "Cold utility = 60.00, Hot utility = 60.00\n"
     ]
    }
   ],
   "source": [
    "Qc = value(model.Qcold)\n",
    "Qh = value(model.Qhot)\n",
    "print('Cold utility = {0:2.2f}, Hot utility = {1:2.2f}'.format(Qc, Qh))"
   ]
  }
 ],
 "metadata": {
  "kernelspec": {
   "display_name": "Python 3.8.3 ('base')",
   "language": "python",
   "name": "python3"
  },
  "language_info": {
   "codemirror_mode": {
    "name": "ipython",
    "version": 3
   },
   "file_extension": ".py",
   "mimetype": "text/x-python",
   "name": "python",
   "nbconvert_exporter": "python",
   "pygments_lexer": "ipython3",
   "version": "3.8.3"
  },
  "orig_nbformat": 4,
  "vscode": {
   "interpreter": {
    "hash": "e06ff7da33dc9620448857a90ad8b5f428f0d573d205a934d2841c8aee45ea32"
   }
  }
 },
 "nbformat": 4,
 "nbformat_minor": 2
}
