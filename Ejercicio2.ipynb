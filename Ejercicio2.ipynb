{
 "cells": [
  {
   "cell_type": "markdown",
   "metadata": {},
   "source": [
    "![Ejemplo 2](images/Ej2.png)"
   ]
  },
  {
   "cell_type": "markdown",
   "metadata": {},
   "source": [
    "En este caso, resolveremos el ejemplo utilizando el \"Transhipment model\", en el cual se plantean los balances alrededor de cada intervalo de temperaturas\n",
    "\n",
    "![Ejemplo 2](images/Ej2_2.png)\n"
   ]
  },
  {
   "cell_type": "code",
   "execution_count": 1,
   "metadata": {},
   "outputs": [],
   "source": [
    "from pyomo.environ import *\n",
    "model = ConcreteModel()"
   ]
  },
  {
   "cell_type": "markdown",
   "metadata": {},
   "source": [
    "Variables"
   ]
  },
  {
   "cell_type": "code",
   "execution_count": 2,
   "metadata": {},
   "outputs": [],
   "source": [
    "Qsteam = model.Qsteam = Var(within = NonNegativeReals)\n",
    "Qcw = model.Qcw = Var(within = NonNegativeReals)\n",
    "R1 = model.R1 = Var(within = NonNegativeReals)\n",
    "R2 = model.R2 = Var(within = NonNegativeReals)\n",
    "R3 = model.R3 = Var(within = NonNegativeReals)\n",
    "R4 = model.R4 = Var(within = NonNegativeReals)"
   ]
  },
  {
   "cell_type": "markdown",
   "metadata": {},
   "source": [
    "Objective function"
   ]
  },
  {
   "cell_type": "code",
   "execution_count": 3,
   "metadata": {},
   "outputs": [],
   "source": [
    "model.util = Objective(expr = Qsteam + Qcw, sense = minimize)"
   ]
  },
  {
   "cell_type": "markdown",
   "metadata": {},
   "source": [
    "Constraints"
   ]
  },
  {
   "cell_type": "code",
   "execution_count": 4,
   "metadata": {},
   "outputs": [],
   "source": [
    "model.int1 = Constraint(expr = Qsteam - 30 - R1 == 0)\n",
    "model.int2 = Constraint(expr = 60 + R1 - R2 - 90 == 0)\n",
    "model.int3 = Constraint(expr = R2 + 70 + 140 - R3 - 105 == 0)\n",
    "model.int4 = Constraint(expr = R3 + 90 + 180 - R4 - 117 -135 == 0)\n",
    "model.int5 = Constraint(expr = R4 + 60 + 120 - 78 - Qcw == 0)\n"
   ]
  },
  {
   "cell_type": "markdown",
   "metadata": {},
   "source": [
    "Solution"
   ]
  },
  {
   "cell_type": "code",
   "execution_count": 5,
   "metadata": {},
   "outputs": [
    {
     "name": "stdout",
     "output_type": "stream",
     "text": [
      "6 Var Declarations\n",
      "    Qcw : Size=1, Index=None\n",
      "        Key  : Lower : Value : Upper : Fixed : Stale : Domain\n",
      "        None :     0 : 225.0 :  None : False : False : NonNegativeReals\n",
      "    Qsteam : Size=1, Index=None\n",
      "        Key  : Lower : Value : Upper : Fixed : Stale : Domain\n",
      "        None :     0 :  60.0 :  None : False : False : NonNegativeReals\n",
      "    R1 : Size=1, Index=None\n",
      "        Key  : Lower : Value : Upper : Fixed : Stale : Domain\n",
      "        None :     0 :  30.0 :  None : False : False : NonNegativeReals\n",
      "    R2 : Size=1, Index=None\n",
      "        Key  : Lower : Value : Upper : Fixed : Stale : Domain\n",
      "        None :     0 :   0.0 :  None : False : False : NonNegativeReals\n",
      "    R3 : Size=1, Index=None\n",
      "        Key  : Lower : Value : Upper : Fixed : Stale : Domain\n",
      "        None :     0 : 105.0 :  None : False : False : NonNegativeReals\n",
      "    R4 : Size=1, Index=None\n",
      "        Key  : Lower : Value : Upper : Fixed : Stale : Domain\n",
      "        None :     0 : 123.0 :  None : False : False : NonNegativeReals\n",
      "\n",
      "1 Objective Declarations\n",
      "    util : Size=1, Index=None, Active=True\n",
      "        Key  : Active : Sense    : Expression\n",
      "        None :   True : minimize : Qsteam + Qcw\n",
      "\n",
      "5 Constraint Declarations\n",
      "    int1 : Size=1, Index=None, Active=True\n",
      "        Key  : Lower : Body             : Upper : Active\n",
      "        None :   0.0 : Qsteam - 30 - R1 :   0.0 :   True\n",
      "    int2 : Size=1, Index=None, Active=True\n",
      "        Key  : Lower : Body              : Upper : Active\n",
      "        None :   0.0 : 60 + R1 - R2 - 90 :   0.0 :   True\n",
      "    int3 : Size=1, Index=None, Active=True\n",
      "        Key  : Lower : Body                     : Upper : Active\n",
      "        None :   0.0 : R2 + 70 + 140 - R3 - 105 :   0.0 :   True\n",
      "    int4 : Size=1, Index=None, Active=True\n",
      "        Key  : Lower : Body                           : Upper : Active\n",
      "        None :   0.0 : R3 + 90 + 180 - R4 - 117 - 135 :   0.0 :   True\n",
      "    int5 : Size=1, Index=None, Active=True\n",
      "        Key  : Lower : Body                     : Upper : Active\n",
      "        None :   0.0 : R4 + 60 + 120 - 78 - Qcw :   0.0 :   True\n",
      "\n",
      "12 Declarations: Qsteam Qcw R1 R2 R3 R4 util int1 int2 int3 int4 int5\n",
      "# ==========================================================\n",
      "# = Solver Results                                         =\n",
      "# ==========================================================\n",
      "# ----------------------------------------------------------\n",
      "#   Problem Information\n",
      "# ----------------------------------------------------------\n",
      "Problem: \n",
      "- Name: unknown\n",
      "  Lower bound: 285.0\n",
      "  Upper bound: 285.0\n",
      "  Number of objectives: 1\n",
      "  Number of constraints: 6\n",
      "  Number of variables: 7\n",
      "  Number of nonzeros: 11\n",
      "  Sense: minimize\n",
      "# ----------------------------------------------------------\n",
      "#   Solver Information\n",
      "# ----------------------------------------------------------\n",
      "Solver: \n",
      "- Status: ok\n",
      "  Termination condition: optimal\n",
      "  Statistics: \n",
      "    Branch and bound: \n",
      "      Number of bounded subproblems: 0\n",
      "      Number of created subproblems: 0\n",
      "  Error rc: 0\n",
      "  Time: 0.03425264358520508\n",
      "# ----------------------------------------------------------\n",
      "#   Solution Information\n",
      "# ----------------------------------------------------------\n",
      "Solution: \n",
      "- number of solutions: 0\n",
      "  number of solutions displayed: 0\n"
     ]
    }
   ],
   "source": [
    "results = SolverFactory('glpk').solve(model)\n",
    "model.pprint()\n",
    "results.write()"
   ]
  },
  {
   "cell_type": "code",
   "execution_count": 6,
   "metadata": {},
   "outputs": [
    {
     "name": "stdout",
     "output_type": "stream",
     "text": [
      "Cold utility = 225.00, Hot utility = 60.00\n"
     ]
    }
   ],
   "source": [
    "Qc = value(Qcw)\n",
    "Qh = value(Qsteam)\n",
    "print('Cold utility = {0:2.2f}, Hot utility = {1:2.2f}'.format(Qc, Qh))"
   ]
  }
 ],
 "metadata": {
  "kernelspec": {
   "display_name": "Python 3.8.3 ('base')",
   "language": "python",
   "name": "python3"
  },
  "language_info": {
   "codemirror_mode": {
    "name": "ipython",
    "version": 3
   },
   "file_extension": ".py",
   "mimetype": "text/x-python",
   "name": "python",
   "nbconvert_exporter": "python",
   "pygments_lexer": "ipython3",
   "version": "3.9.12"
  },
  "orig_nbformat": 4,
  "vscode": {
   "interpreter": {
    "hash": "e06ff7da33dc9620448857a90ad8b5f428f0d573d205a934d2841c8aee45ea32"
   }
  }
 },
 "nbformat": 4,
 "nbformat_minor": 2
}
