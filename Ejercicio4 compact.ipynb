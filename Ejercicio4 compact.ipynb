{
 "cells": [
  {
   "cell_type": "code",
   "execution_count": 47,
   "metadata": {},
   "outputs": [],
   "source": [
    "from pyomo.environ import *\n",
    "import pandas as pd\n",
    "\n",
    "model = ConcreteModel()"
   ]
  },
  {
   "cell_type": "markdown",
   "metadata": {},
   "source": [
    "Creamos el dataframes de las corrientes calientes"
   ]
  },
  {
   "cell_type": "code",
   "execution_count": 48,
   "metadata": {},
   "outputs": [
    {
     "data": {
      "text/html": [
       "<div><div id=d7aabf86-c570-4163-8c68-72ce8acbd024 style=\"display:none; background-color:#9D6CFF; color:white; width:200px; height:30px; padding-left:5px; border-radius:4px; flex-direction:row; justify-content:space-around; align-items:center;\" onmouseover=\"this.style.backgroundColor='#BA9BF8'\" onmouseout=\"this.style.backgroundColor='#9D6CFF'\" onclick=\"window.commands?.execute('create-mitosheet-from-dataframe-output');\">See Full Dataframe in Mito</div> <script> if (window.commands.hasCommand('create-mitosheet-from-dataframe-output')) document.getElementById('d7aabf86-c570-4163-8c68-72ce8acbd024').style.display = 'flex' </script> <table border=\"1\" class=\"dataframe\">\n",
       "  <thead>\n",
       "    <tr style=\"text-align: right;\">\n",
       "      <th></th>\n",
       "      <th>0</th>\n",
       "      <th>1</th>\n",
       "      <th>2</th>\n",
       "      <th>3</th>\n",
       "      <th>4</th>\n",
       "      <th>5</th>\n",
       "    </tr>\n",
       "  </thead>\n",
       "  <tbody>\n",
       "    <tr>\n",
       "      <th>H1</th>\n",
       "      <td>0</td>\n",
       "      <td>0</td>\n",
       "      <td>50</td>\n",
       "      <td>25</td>\n",
       "      <td>125</td>\n",
       "      <td>0</td>\n",
       "    </tr>\n",
       "    <tr>\n",
       "      <th>H2</th>\n",
       "      <td>0</td>\n",
       "      <td>0</td>\n",
       "      <td>0</td>\n",
       "      <td>0</td>\n",
       "      <td>190</td>\n",
       "      <td>0</td>\n",
       "    </tr>\n",
       "  </tbody>\n",
       "</table></div>"
      ],
      "text/plain": [
       "    0  1   2   3    4  5\n",
       "H1  0  0  50  25  125  0\n",
       "H2  0  0   0   0  190  0"
      ]
     },
     "execution_count": 48,
     "metadata": {},
     "output_type": "execute_result"
    }
   ],
   "source": [
    "Hot_datos = {0: [0,0], 1: [0,0], 2: [50,0], 3: [25,0],4: [125,190], 5:[0,0]}\n",
    "Hot_df = pd.DataFrame(Hot_datos,index=['H1','H2'])\n",
    "Hot_df"
   ]
  },
  {
   "cell_type": "markdown",
   "metadata": {},
   "source": [
    "E igualmente de las frías."
   ]
  },
  {
   "cell_type": "code",
   "execution_count": 49,
   "metadata": {},
   "outputs": [
    {
     "data": {
      "text/html": [
       "<div><div id=84423ea1-ac0c-4ccb-86a7-76ef9808b9d0 style=\"display:none; background-color:#9D6CFF; color:white; width:200px; height:30px; padding-left:5px; border-radius:4px; flex-direction:row; justify-content:space-around; align-items:center;\" onmouseover=\"this.style.backgroundColor='#BA9BF8'\" onmouseout=\"this.style.backgroundColor='#9D6CFF'\" onclick=\"window.commands?.execute('create-mitosheet-from-dataframe-output');\">See Full Dataframe in Mito</div> <script> if (window.commands.hasCommand('create-mitosheet-from-dataframe-output')) document.getElementById('84423ea1-ac0c-4ccb-86a7-76ef9808b9d0').style.display = 'flex' </script> <table border=\"1\" class=\"dataframe\">\n",
       "  <thead>\n",
       "    <tr style=\"text-align: right;\">\n",
       "      <th></th>\n",
       "      <th>0</th>\n",
       "      <th>1</th>\n",
       "      <th>2</th>\n",
       "      <th>3</th>\n",
       "      <th>4</th>\n",
       "      <th>5</th>\n",
       "    </tr>\n",
       "  </thead>\n",
       "  <tbody>\n",
       "    <tr>\n",
       "      <th>C1</th>\n",
       "      <td>0</td>\n",
       "      <td>60</td>\n",
       "      <td>40</td>\n",
       "      <td>20</td>\n",
       "      <td>100</td>\n",
       "      <td>20</td>\n",
       "    </tr>\n",
       "    <tr>\n",
       "      <th>C2</th>\n",
       "      <td>0</td>\n",
       "      <td>0</td>\n",
       "      <td>0</td>\n",
       "      <td>20</td>\n",
       "      <td>100</td>\n",
       "      <td>20</td>\n",
       "    </tr>\n",
       "  </tbody>\n",
       "</table></div>"
      ],
      "text/plain": [
       "    0   1   2   3    4   5\n",
       "C1  0  60  40  20  100  20\n",
       "C2  0   0   0  20  100  20"
      ]
     },
     "execution_count": 49,
     "metadata": {},
     "output_type": "execute_result"
    }
   ],
   "source": [
    "Cold_datos =  {0: [0,0], 1:[60,0], 2: [40,0], 3: [20,20], 4: [100,100], 5:[20,20]}\n",
    "Cold_df = pd.DataFrame(Cold_datos,index=['C1','C2'])\n",
    "Cold_df"
   ]
  },
  {
   "cell_type": "code",
   "execution_count": 50,
   "metadata": {},
   "outputs": [],
   "source": [
    "hotst = Hot_df.index.values.tolist()\n",
    "coldst = Cold_df.index.values.tolist()\n",
    "model.h=Set(initialize=hotst)\n",
    "model.c=Set(initialize=coldst)\n",
    "model.i=Set(initialize=Hot_df.columns)"
   ]
  },
  {
   "cell_type": "markdown",
   "metadata": {},
   "source": [
    "Podemos ver lo que hemos creado hasta ahora haciendo un model.pprint()"
   ]
  },
  {
   "cell_type": "code",
   "execution_count": 51,
   "metadata": {},
   "outputs": [
    {
     "name": "stdout",
     "output_type": "stream",
     "text": [
      "3 Set Declarations\n",
      "    c : Size=1, Index=None, Ordered=Insertion\n",
      "        Key  : Dimen : Domain : Size : Members\n",
      "        None :     1 :    Any :    2 : {'C1', 'C2'}\n",
      "    h : Size=1, Index=None, Ordered=Insertion\n",
      "        Key  : Dimen : Domain : Size : Members\n",
      "        None :     1 :    Any :    2 : {'H1', 'H2'}\n",
      "    i : Size=1, Index=None, Ordered=Insertion\n",
      "        Key  : Dimen : Domain : Size : Members\n",
      "        None :     1 :    Any :    6 : {0, 1, 2, 3, 4, 5}\n",
      "\n",
      "3 Declarations: h c i\n"
     ]
    }
   ],
   "source": [
    "model.pprint()"
   ]
  },
  {
   "cell_type": "markdown",
   "metadata": {},
   "source": [
    "Creamos ahora las variables del modelo. Para cada tipo de utility creamos una variable para cada intervalo, luego impondremos en qué intervalos esa utility es cero."
   ]
  },
  {
   "cell_type": "code",
   "execution_count": 52,
   "metadata": {},
   "outputs": [],
   "source": [
    "Qhps = model.Qhps = Var(model.i,within = NonNegativeReals)\n",
    "Qlps = model.Qlps = Var(model.i,within = NonNegativeReals)\n",
    "Qw = model.Qw = Var(model.i,within = NonNegativeReals)\n",
    "R = model.R = Var(model.i,within = NonNegativeReals)"
   ]
  },
  {
   "cell_type": "markdown",
   "metadata": {},
   "source": [
    "Creamos la función de coste a partir de los consumos de utilities y sus precios. Aunque las unidades no coincidan, para la solución da igual. Es decir los precios están en $/kWyr y los consumos en MW. Tendría que coger como base de cálculo un año y los MW transformarlos en kWyr. Como cada término se multiplicaría por el mismo valor, no hay problema porque la solución sería la misma (aunque no sería igual el valor de la FO)."
   ]
  },
  {
   "cell_type": "code",
   "execution_count": 53,
   "metadata": {},
   "outputs": [],
   "source": [
    "model.coste = Objective(expr = Qhps[1]*80+Qlps[3]*80 + Qw[5]*20)"
   ]
  },
  {
   "cell_type": "markdown",
   "metadata": {},
   "source": [
    "Constraints"
   ]
  },
  {
   "cell_type": "code",
   "execution_count": 54,
   "metadata": {},
   "outputs": [],
   "source": [
    "ni = list(model.i)[1:] \n",
    "model.int = ConstraintList()\n",
    "for i in ni:\n",
    "    model.int.add(\n",
    "        R[i-1]+Qhps[i]+Qlps[i]+sum(Hot_df[i]) == R[i]+sum(Cold_df[i])+Qw[i]\n",
    "    )\n",
    "\n",
    "model.R0 = Constraint(expr = R[0] == 0) \n",
    "model.R9 = Constraint(expr = R[5] == 0)\n",
    "\n",
    "nii = list(model.i)[0:1]+list(model.i)[2:] \n",
    "model.hps = ConstraintList()\n",
    "for i in nii:\n",
    "    model.hps.add(\n",
    "        Qhps[i]==0\n",
    "    )\n",
    "\n",
    "niii = list(model.i)[0:3]+list(model.i)[4:] \n",
    "model.lps = ConstraintList()\n",
    "for i in niii:\n",
    "    model.lps.add(\n",
    "        Qlps[i]==0\n",
    "    )\n",
    "\n",
    "niiii = list(model.i)[0:5] \n",
    "model.cw = ConstraintList()\n",
    "for i in niiii:\n",
    "    model.cw.add(\n",
    "        Qw[i]==0\n",
    "    )"
   ]
  },
  {
   "cell_type": "markdown",
   "metadata": {},
   "source": [
    "Resolvemos el modelo"
   ]
  },
  {
   "cell_type": "code",
   "execution_count": 55,
   "metadata": {},
   "outputs": [
    {
     "name": "stdout",
     "output_type": "stream",
     "text": [
      "7 Set Declarations\n",
      "    c : Size=1, Index=None, Ordered=Insertion\n",
      "        Key  : Dimen : Domain : Size : Members\n",
      "        None :     1 :    Any :    2 : {'C1', 'C2'}\n",
      "    cw_index : Size=1, Index=None, Ordered=Insertion\n",
      "        Key  : Dimen : Domain : Size : Members\n",
      "        None :     1 :    Any :    5 : {1, 2, 3, 4, 5}\n",
      "    h : Size=1, Index=None, Ordered=Insertion\n",
      "        Key  : Dimen : Domain : Size : Members\n",
      "        None :     1 :    Any :    2 : {'H1', 'H2'}\n",
      "    hps_index : Size=1, Index=None, Ordered=Insertion\n",
      "        Key  : Dimen : Domain : Size : Members\n",
      "        None :     1 :    Any :    5 : {1, 2, 3, 4, 5}\n",
      "    i : Size=1, Index=None, Ordered=Insertion\n",
      "        Key  : Dimen : Domain : Size : Members\n",
      "        None :     1 :    Any :    6 : {0, 1, 2, 3, 4, 5}\n",
      "    int_index : Size=1, Index=None, Ordered=Insertion\n",
      "        Key  : Dimen : Domain : Size : Members\n",
      "        None :     1 :    Any :    5 : {1, 2, 3, 4, 5}\n",
      "    lps_index : Size=1, Index=None, Ordered=Insertion\n",
      "        Key  : Dimen : Domain : Size : Members\n",
      "        None :     1 :    Any :    5 : {1, 2, 3, 4, 5}\n",
      "\n",
      "4 Var Declarations\n",
      "    Qhps : Size=6, Index=i\n",
      "        Key : Lower : Value : Upper : Fixed : Stale : Domain\n",
      "          0 :     0 :   0.0 :  None : False : False : NonNegativeReals\n",
      "          1 :     0 :  60.0 :  None : False : False : NonNegativeReals\n",
      "          2 :     0 :   0.0 :  None : False : False : NonNegativeReals\n",
      "          3 :     0 :   0.0 :  None : False : False : NonNegativeReals\n",
      "          4 :     0 :   0.0 :  None : False : False : NonNegativeReals\n",
      "          5 :     0 :   0.0 :  None : False : False : NonNegativeReals\n",
      "    Qlps : Size=6, Index=i\n",
      "        Key : Lower : Value : Upper : Fixed : Stale : Domain\n",
      "          0 :     0 :   0.0 :  None : False : False : NonNegativeReals\n",
      "          1 :     0 :   0.0 :  None : False : False : NonNegativeReals\n",
      "          2 :     0 :   0.0 :  None : False : False : NonNegativeReals\n",
      "          3 :     0 :   5.0 :  None : False : False : NonNegativeReals\n",
      "          4 :     0 :   0.0 :  None : False : False : NonNegativeReals\n",
      "          5 :     0 :   0.0 :  None : False : False : NonNegativeReals\n",
      "    Qw : Size=6, Index=i\n",
      "        Key : Lower : Value : Upper : Fixed : Stale : Domain\n",
      "          0 :     0 :   0.0 :  None : False : False : NonNegativeReals\n",
      "          1 :     0 :   0.0 :  None : False : False : NonNegativeReals\n",
      "          2 :     0 :   0.0 :  None : False : False : NonNegativeReals\n",
      "          3 :     0 :   0.0 :  None : False : False : NonNegativeReals\n",
      "          4 :     0 :   0.0 :  None : False : False : NonNegativeReals\n",
      "          5 :     0 :  75.0 :  None : False : False : NonNegativeReals\n",
      "    R : Size=6, Index=i\n",
      "        Key : Lower : Value : Upper : Fixed : Stale : Domain\n",
      "          0 :     0 :   0.0 :  None : False : False : NonNegativeReals\n",
      "          1 :     0 :   0.0 :  None : False : False : NonNegativeReals\n",
      "          2 :     0 :  10.0 :  None : False : False : NonNegativeReals\n",
      "          3 :     0 :   0.0 :  None : False : False : NonNegativeReals\n",
      "          4 :     0 : 115.0 :  None : False : False : NonNegativeReals\n",
      "          5 :     0 :   0.0 :  None : False : False : NonNegativeReals\n",
      "\n",
      "1 Objective Declarations\n",
      "    coste : Size=1, Index=None, Active=True\n",
      "        Key  : Active : Sense    : Expression\n",
      "        None :   True : minimize : 80*Qhps[1] + 80*Qlps[3] + 20*Qw[5]\n",
      "\n",
      "6 Constraint Declarations\n",
      "    R0 : Size=1, Index=None, Active=True\n",
      "        Key  : Lower : Body : Upper : Active\n",
      "        None :   0.0 : R[0] :   0.0 :   True\n",
      "    R9 : Size=1, Index=None, Active=True\n",
      "        Key  : Lower : Body : Upper : Active\n",
      "        None :   0.0 : R[5] :   0.0 :   True\n",
      "    cw : Size=5, Index=cw_index, Active=True\n",
      "        Key : Lower : Body  : Upper : Active\n",
      "          1 :   0.0 : Qw[0] :   0.0 :   True\n",
      "          2 :   0.0 : Qw[1] :   0.0 :   True\n",
      "          3 :   0.0 : Qw[2] :   0.0 :   True\n",
      "          4 :   0.0 : Qw[3] :   0.0 :   True\n",
      "          5 :   0.0 : Qw[4] :   0.0 :   True\n",
      "    hps : Size=5, Index=hps_index, Active=True\n",
      "        Key : Lower : Body    : Upper : Active\n",
      "          1 :   0.0 : Qhps[0] :   0.0 :   True\n",
      "          2 :   0.0 : Qhps[2] :   0.0 :   True\n",
      "          3 :   0.0 : Qhps[3] :   0.0 :   True\n",
      "          4 :   0.0 : Qhps[4] :   0.0 :   True\n",
      "          5 :   0.0 : Qhps[5] :   0.0 :   True\n",
      "    int : Size=5, Index=int_index, Active=True\n",
      "        Key : Lower : Body                                                  : Upper : Active\n",
      "          1 :   0.0 :        R[0] + Qhps[1] + Qlps[1] - (R[1] + 60 + Qw[1]) :   0.0 :   True\n",
      "          2 :   0.0 :   R[1] + Qhps[2] + Qlps[2] + 50 - (R[2] + 40 + Qw[2]) :   0.0 :   True\n",
      "          3 :   0.0 :   R[2] + Qhps[3] + Qlps[3] + 25 - (R[3] + 40 + Qw[3]) :   0.0 :   True\n",
      "          4 :   0.0 : R[3] + Qhps[4] + Qlps[4] + 315 - (R[4] + 200 + Qw[4]) :   0.0 :   True\n",
      "          5 :   0.0 :        R[4] + Qhps[5] + Qlps[5] - (R[5] + 40 + Qw[5]) :   0.0 :   True\n",
      "    lps : Size=5, Index=lps_index, Active=True\n",
      "        Key : Lower : Body    : Upper : Active\n",
      "          1 :   0.0 : Qlps[0] :   0.0 :   True\n",
      "          2 :   0.0 : Qlps[1] :   0.0 :   True\n",
      "          3 :   0.0 : Qlps[2] :   0.0 :   True\n",
      "          4 :   0.0 : Qlps[4] :   0.0 :   True\n",
      "          5 :   0.0 : Qlps[5] :   0.0 :   True\n",
      "\n",
      "18 Declarations: h c i Qhps Qlps Qw R coste int_index int R0 R9 hps_index hps lps_index lps cw_index cw\n",
      "# ==========================================================\n",
      "# = Solver Results                                         =\n",
      "# ==========================================================\n",
      "# ----------------------------------------------------------\n",
      "#   Problem Information\n",
      "# ----------------------------------------------------------\n",
      "Problem: \n",
      "- Name: unknown\n",
      "  Lower bound: 6700.0\n",
      "  Upper bound: 6700.0\n",
      "  Number of objectives: 1\n",
      "  Number of constraints: 23\n",
      "  Number of variables: 25\n",
      "  Number of nonzeros: 43\n",
      "  Sense: minimize\n",
      "# ----------------------------------------------------------\n",
      "#   Solver Information\n",
      "# ----------------------------------------------------------\n",
      "Solver: \n",
      "- Status: ok\n",
      "  Termination condition: optimal\n",
      "  Statistics: \n",
      "    Branch and bound: \n",
      "      Number of bounded subproblems: 0\n",
      "      Number of created subproblems: 0\n",
      "  Error rc: 0\n",
      "  Time: 0.0803687572479248\n",
      "# ----------------------------------------------------------\n",
      "#   Solution Information\n",
      "# ----------------------------------------------------------\n",
      "Solution: \n",
      "- number of solutions: 0\n",
      "  number of solutions displayed: 0\n"
     ]
    }
   ],
   "source": [
    "results = SolverFactory('glpk').solve(model)\n",
    "model.pprint()\n",
    "results.write()"
   ]
  },
  {
   "cell_type": "code",
   "execution_count": 56,
   "metadata": {},
   "outputs": [
    {
     "name": "stdout",
     "output_type": "stream",
     "text": [
      "Cold utility = 75.00, LP Steam = 5.00, HP Steam = 60.00\n"
     ]
    }
   ],
   "source": [
    "Qh = value(model.Qhps[1])\n",
    "Ql = value(model.Qlps[3])\n",
    "Qw = value(model.Qw[5])\n",
    "print('Cold utility = {0:2.2f}, LP Steam = {1:2.2f}, HP Steam = {2:2.2f}'.format(Qw, Ql, Qh))"
   ]
  }
 ],
 "metadata": {
  "kernelspec": {
   "display_name": "Python 3.8.3 ('base')",
   "language": "python",
   "name": "python3"
  },
  "language_info": {
   "codemirror_mode": {
    "name": "ipython",
    "version": 3
   },
   "file_extension": ".py",
   "mimetype": "text/x-python",
   "name": "python",
   "nbconvert_exporter": "python",
   "pygments_lexer": "ipython3",
   "version": "3.8.3"
  },
  "orig_nbformat": 4,
  "vscode": {
   "interpreter": {
    "hash": "e06ff7da33dc9620448857a90ad8b5f428f0d573d205a934d2841c8aee45ea32"
   }
  }
 },
 "nbformat": 4,
 "nbformat_minor": 2
}
